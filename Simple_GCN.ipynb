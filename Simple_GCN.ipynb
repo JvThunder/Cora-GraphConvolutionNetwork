{
  "nbformat": 4,
  "nbformat_minor": 0,
  "metadata": {
    "colab": {
      "provenance": []
    },
    "kernelspec": {
      "name": "python3",
      "display_name": "Python 3"
    },
    "language_info": {
      "name": "python"
    }
  },
  "cells": [
    {
      "cell_type": "code",
      "execution_count": null,
      "metadata": {
        "colab": {
          "base_uri": "https://localhost:8080/",
          "height": 1000
        },
        "id": "In4lRxDVEWe9",
        "outputId": "2c6afe89-476c-4207-f852-1b751cbfe2c8"
      },
      "outputs": [
        {
          "output_type": "stream",
          "name": "stdout",
          "text": [
            "Collecting spektral==0.6.2\n",
            "  Downloading spektral-0.6.2-py3-none-any.whl (95 kB)\n",
            "\u001b[2K     \u001b[90m━━━━━━━━━━━━━━━━━━━━━━━━━━━━━━━━━━━━━━━━\u001b[0m \u001b[32m95.4/95.4 kB\u001b[0m \u001b[31m2.0 MB/s\u001b[0m eta \u001b[36m0:00:00\u001b[0m\n",
            "\u001b[?25hRequirement already satisfied: tensorflow>=2.1.0 in /usr/local/lib/python3.10/dist-packages (from spektral==0.6.2) (2.13.0)\n",
            "Requirement already satisfied: networkx in /usr/local/lib/python3.10/dist-packages (from spektral==0.6.2) (3.1)\n",
            "Requirement already satisfied: pandas in /usr/local/lib/python3.10/dist-packages (from spektral==0.6.2) (1.5.3)\n",
            "Requirement already satisfied: lxml in /usr/local/lib/python3.10/dist-packages (from spektral==0.6.2) (4.9.3)\n",
            "Requirement already satisfied: joblib in /usr/local/lib/python3.10/dist-packages (from spektral==0.6.2) (1.3.2)\n",
            "Requirement already satisfied: numpy in /usr/local/lib/python3.10/dist-packages (from spektral==0.6.2) (1.23.5)\n",
            "Requirement already satisfied: scipy in /usr/local/lib/python3.10/dist-packages (from spektral==0.6.2) (1.11.2)\n",
            "Requirement already satisfied: requests in /usr/local/lib/python3.10/dist-packages (from spektral==0.6.2) (2.31.0)\n",
            "Requirement already satisfied: scikit-learn in /usr/local/lib/python3.10/dist-packages (from spektral==0.6.2) (1.2.2)\n",
            "Requirement already satisfied: absl-py>=1.0.0 in /usr/local/lib/python3.10/dist-packages (from tensorflow>=2.1.0->spektral==0.6.2) (1.4.0)\n",
            "Requirement already satisfied: astunparse>=1.6.0 in /usr/local/lib/python3.10/dist-packages (from tensorflow>=2.1.0->spektral==0.6.2) (1.6.3)\n",
            "Requirement already satisfied: flatbuffers>=23.1.21 in /usr/local/lib/python3.10/dist-packages (from tensorflow>=2.1.0->spektral==0.6.2) (23.5.26)\n",
            "Requirement already satisfied: gast<=0.4.0,>=0.2.1 in /usr/local/lib/python3.10/dist-packages (from tensorflow>=2.1.0->spektral==0.6.2) (0.4.0)\n",
            "Requirement already satisfied: google-pasta>=0.1.1 in /usr/local/lib/python3.10/dist-packages (from tensorflow>=2.1.0->spektral==0.6.2) (0.2.0)\n",
            "Requirement already satisfied: grpcio<2.0,>=1.24.3 in /usr/local/lib/python3.10/dist-packages (from tensorflow>=2.1.0->spektral==0.6.2) (1.57.0)\n",
            "Requirement already satisfied: h5py>=2.9.0 in /usr/local/lib/python3.10/dist-packages (from tensorflow>=2.1.0->spektral==0.6.2) (3.9.0)\n",
            "Requirement already satisfied: keras<2.14,>=2.13.1 in /usr/local/lib/python3.10/dist-packages (from tensorflow>=2.1.0->spektral==0.6.2) (2.13.1)\n",
            "Requirement already satisfied: libclang>=13.0.0 in /usr/local/lib/python3.10/dist-packages (from tensorflow>=2.1.0->spektral==0.6.2) (16.0.6)\n",
            "Requirement already satisfied: opt-einsum>=2.3.2 in /usr/local/lib/python3.10/dist-packages (from tensorflow>=2.1.0->spektral==0.6.2) (3.3.0)\n",
            "Requirement already satisfied: packaging in /usr/local/lib/python3.10/dist-packages (from tensorflow>=2.1.0->spektral==0.6.2) (23.1)\n",
            "Requirement already satisfied: protobuf!=4.21.0,!=4.21.1,!=4.21.2,!=4.21.3,!=4.21.4,!=4.21.5,<5.0.0dev,>=3.20.3 in /usr/local/lib/python3.10/dist-packages (from tensorflow>=2.1.0->spektral==0.6.2) (3.20.3)\n",
            "Requirement already satisfied: setuptools in /usr/local/lib/python3.10/dist-packages (from tensorflow>=2.1.0->spektral==0.6.2) (67.7.2)\n",
            "Requirement already satisfied: six>=1.12.0 in /usr/local/lib/python3.10/dist-packages (from tensorflow>=2.1.0->spektral==0.6.2) (1.16.0)\n",
            "Requirement already satisfied: tensorboard<2.14,>=2.13 in /usr/local/lib/python3.10/dist-packages (from tensorflow>=2.1.0->spektral==0.6.2) (2.13.0)\n",
            "Requirement already satisfied: tensorflow-estimator<2.14,>=2.13.0 in /usr/local/lib/python3.10/dist-packages (from tensorflow>=2.1.0->spektral==0.6.2) (2.13.0)\n",
            "Requirement already satisfied: termcolor>=1.1.0 in /usr/local/lib/python3.10/dist-packages (from tensorflow>=2.1.0->spektral==0.6.2) (2.3.0)\n",
            "Requirement already satisfied: typing-extensions<4.6.0,>=3.6.6 in /usr/local/lib/python3.10/dist-packages (from tensorflow>=2.1.0->spektral==0.6.2) (4.5.0)\n",
            "Requirement already satisfied: wrapt>=1.11.0 in /usr/local/lib/python3.10/dist-packages (from tensorflow>=2.1.0->spektral==0.6.2) (1.15.0)\n",
            "Requirement already satisfied: tensorflow-io-gcs-filesystem>=0.23.1 in /usr/local/lib/python3.10/dist-packages (from tensorflow>=2.1.0->spektral==0.6.2) (0.33.0)\n",
            "Requirement already satisfied: python-dateutil>=2.8.1 in /usr/local/lib/python3.10/dist-packages (from pandas->spektral==0.6.2) (2.8.2)\n",
            "Requirement already satisfied: pytz>=2020.1 in /usr/local/lib/python3.10/dist-packages (from pandas->spektral==0.6.2) (2023.3.post1)\n",
            "Requirement already satisfied: charset-normalizer<4,>=2 in /usr/local/lib/python3.10/dist-packages (from requests->spektral==0.6.2) (3.2.0)\n",
            "Requirement already satisfied: idna<4,>=2.5 in /usr/local/lib/python3.10/dist-packages (from requests->spektral==0.6.2) (3.4)\n",
            "Requirement already satisfied: urllib3<3,>=1.21.1 in /usr/local/lib/python3.10/dist-packages (from requests->spektral==0.6.2) (2.0.4)\n",
            "Requirement already satisfied: certifi>=2017.4.17 in /usr/local/lib/python3.10/dist-packages (from requests->spektral==0.6.2) (2023.7.22)\n",
            "Requirement already satisfied: threadpoolctl>=2.0.0 in /usr/local/lib/python3.10/dist-packages (from scikit-learn->spektral==0.6.2) (3.2.0)\n",
            "Requirement already satisfied: wheel<1.0,>=0.23.0 in /usr/local/lib/python3.10/dist-packages (from astunparse>=1.6.0->tensorflow>=2.1.0->spektral==0.6.2) (0.41.2)\n",
            "Requirement already satisfied: google-auth<3,>=1.6.3 in /usr/local/lib/python3.10/dist-packages (from tensorboard<2.14,>=2.13->tensorflow>=2.1.0->spektral==0.6.2) (2.17.3)\n",
            "Requirement already satisfied: google-auth-oauthlib<1.1,>=0.5 in /usr/local/lib/python3.10/dist-packages (from tensorboard<2.14,>=2.13->tensorflow>=2.1.0->spektral==0.6.2) (1.0.0)\n",
            "Requirement already satisfied: markdown>=2.6.8 in /usr/local/lib/python3.10/dist-packages (from tensorboard<2.14,>=2.13->tensorflow>=2.1.0->spektral==0.6.2) (3.4.4)\n",
            "Requirement already satisfied: tensorboard-data-server<0.8.0,>=0.7.0 in /usr/local/lib/python3.10/dist-packages (from tensorboard<2.14,>=2.13->tensorflow>=2.1.0->spektral==0.6.2) (0.7.1)\n",
            "Requirement already satisfied: werkzeug>=1.0.1 in /usr/local/lib/python3.10/dist-packages (from tensorboard<2.14,>=2.13->tensorflow>=2.1.0->spektral==0.6.2) (2.3.7)\n",
            "Requirement already satisfied: cachetools<6.0,>=2.0.0 in /usr/local/lib/python3.10/dist-packages (from google-auth<3,>=1.6.3->tensorboard<2.14,>=2.13->tensorflow>=2.1.0->spektral==0.6.2) (5.3.1)\n",
            "Requirement already satisfied: pyasn1-modules>=0.2.1 in /usr/local/lib/python3.10/dist-packages (from google-auth<3,>=1.6.3->tensorboard<2.14,>=2.13->tensorflow>=2.1.0->spektral==0.6.2) (0.3.0)\n",
            "Requirement already satisfied: rsa<5,>=3.1.4 in /usr/local/lib/python3.10/dist-packages (from google-auth<3,>=1.6.3->tensorboard<2.14,>=2.13->tensorflow>=2.1.0->spektral==0.6.2) (4.9)\n",
            "Requirement already satisfied: requests-oauthlib>=0.7.0 in /usr/local/lib/python3.10/dist-packages (from google-auth-oauthlib<1.1,>=0.5->tensorboard<2.14,>=2.13->tensorflow>=2.1.0->spektral==0.6.2) (1.3.1)\n",
            "Requirement already satisfied: MarkupSafe>=2.1.1 in /usr/local/lib/python3.10/dist-packages (from werkzeug>=1.0.1->tensorboard<2.14,>=2.13->tensorflow>=2.1.0->spektral==0.6.2) (2.1.3)\n",
            "Requirement already satisfied: pyasn1<0.6.0,>=0.4.6 in /usr/local/lib/python3.10/dist-packages (from pyasn1-modules>=0.2.1->google-auth<3,>=1.6.3->tensorboard<2.14,>=2.13->tensorflow>=2.1.0->spektral==0.6.2) (0.5.0)\n",
            "Requirement already satisfied: oauthlib>=3.0.0 in /usr/local/lib/python3.10/dist-packages (from requests-oauthlib>=0.7.0->google-auth-oauthlib<1.1,>=0.5->tensorboard<2.14,>=2.13->tensorflow>=2.1.0->spektral==0.6.2) (3.2.2)\n",
            "Installing collected packages: spektral\n",
            "  Attempting uninstall: spektral\n",
            "    Found existing installation: spektral 1.3.0\n",
            "    Uninstalling spektral-1.3.0:\n",
            "      Successfully uninstalled spektral-1.3.0\n",
            "Successfully installed spektral-0.6.2\n"
          ]
        },
        {
          "output_type": "display_data",
          "data": {
            "application/vnd.colab-display-data+json": {
              "pip_warning": {
                "packages": [
                  "spektral"
                ]
              }
            }
          },
          "metadata": {}
        }
      ],
      "source": [
        "!pip install spektral==0.6.2"
      ]
    },
    {
      "cell_type": "code",
      "source": [
        "import numpy as np\n",
        "import tensorflow as tf\n",
        "import spektral"
      ],
      "metadata": {
        "id": "id1uKCMDEZMm"
      },
      "execution_count": null,
      "outputs": []
    },
    {
      "cell_type": "code",
      "source": [
        "adj, features, labels, train_mask, val_mask, test_mask = spektral.datasets.citation.load_data(dataset_name='cora')\n",
        "features = features.todense()\n",
        "adj = adj.todense() + np.eye(adj.shape[0])\n",
        "adj = adj.astype('float32')\n",
        "\n",
        "print(features.shape)\n",
        "print(adj.shape)\n",
        "print(labels.shape)\n",
        "\n",
        "print(np.sum(train_mask))\n",
        "print(np.sum(val_mask))\n",
        "print(np.sum(test_mask))"
      ],
      "metadata": {
        "colab": {
          "base_uri": "https://localhost:8080/"
        },
        "id": "4EW3Dq7lEfFu",
        "outputId": "b786a6de-46f6-4d18-c35e-c4003a57814d"
      },
      "execution_count": null,
      "outputs": [
        {
          "output_type": "stream",
          "name": "stdout",
          "text": [
            "Loading cora dataset\n",
            "Pre-processing node features\n",
            "(2708, 1433)\n",
            "(2708, 2708)\n",
            "(2708, 7)\n",
            "140\n",
            "500\n",
            "1000\n"
          ]
        }
      ]
    },
    {
      "cell_type": "code",
      "source": [
        "def masked_softmax_cross_entropy(logits, labels, mask):\n",
        "    loss = tf.nn.softmax_cross_entropy_with_logits(logits=logits, labels=labels)\n",
        "    mask = tf.cast(mask, dtype=tf.float32)\n",
        "    mask /= tf.reduce_mean(mask)\n",
        "    loss *= mask\n",
        "    return tf.reduce_mean(loss)\n",
        "\n",
        "def masked_accuracy(logits, labels, mask):\n",
        "    correct_pred = tf.equal(tf.argmax(logits, 1), tf.argmax(labels, 1))\n",
        "    acc = tf.cast(correct_pred, tf.float32)\n",
        "    mask = tf.cast(mask, tf.float32)\n",
        "    mask /= tf.reduce_mean(mask)\n",
        "    acc *= mask\n",
        "    return tf.reduce_mean(acc)"
      ],
      "metadata": {
        "id": "FDOirt2dFWll"
      },
      "execution_count": null,
      "outputs": []
    },
    {
      "cell_type": "code",
      "source": [
        "def gnn(features, adj, transform, act):\n",
        "    seq_features = transform(features)\n",
        "    ret_features = tf.matmul(adj, seq_features)\n",
        "    return act(ret_features)"
      ],
      "metadata": {
        "id": "V7dPTmztGrzH"
      },
      "execution_count": null,
      "outputs": []
    },
    {
      "cell_type": "code",
      "source": [
        "def train_cora(features, adj, gnn_fn, units, no_epochs, lr):\n",
        "    fc1 = tf.keras.layers.Dense(units)\n",
        "    fc2 = tf.keras.layers.Dense(7)\n",
        "\n",
        "    def cora_gnn(features, adj):\n",
        "        hidden = gnn_fn(features, adj, fc1, tf.nn.relu)\n",
        "        logits = gnn_fn(hidden, adj, fc2, tf.identity)\n",
        "        return logits\n",
        "\n",
        "    optimizer = tf.keras.optimizers.Adam(learning_rate=lr)\n",
        "\n",
        "    best_acc = 0.0\n",
        "    for epoch in range(no_epochs):\n",
        "        with tf.GradientTape() as t:\n",
        "            logits = cora_gnn(features, adj)\n",
        "            loss = masked_softmax_cross_entropy(logits, labels, train_mask)\n",
        "\n",
        "        variables = t.watched_variables()\n",
        "        grads = t.gradient(loss, variables)\n",
        "        optimizer.apply_gradients(zip(grads, variables))\n",
        "\n",
        "        logits = cora_gnn(features, adj)\n",
        "        val_acc = masked_accuracy(logits, labels, val_mask)\n",
        "        test_acc = masked_accuracy(logits, labels, test_mask)\n",
        "\n",
        "        if val_acc > best_acc:\n",
        "            best_acc = val_acc\n",
        "            print(\"Training loss:\", loss.numpy(), '| Val accuracy:', val_acc.numpy(), '| Test accuracy:', test_acc.numpy())"
      ],
      "metadata": {
        "id": "APn2bMs_Hjpw"
      },
      "execution_count": null,
      "outputs": []
    },
    {
      "cell_type": "code",
      "source": [
        "train_cora(features, adj, gnn, 32, 200, 0.01)"
      ],
      "metadata": {
        "colab": {
          "base_uri": "https://localhost:8080/"
        },
        "id": "_sB8vU9AJkuR",
        "outputId": "d004c375-dd72-4ac7-845f-aea1d28d9309"
      },
      "execution_count": null,
      "outputs": [
        {
          "output_type": "stream",
          "name": "stdout",
          "text": [
            "Training loss: 1.9709835 | Val accuracy: 0.25 | Test accuracy: 0.25100002\n",
            "Training loss: 1.8293594 | Val accuracy: 0.294 | Test accuracy: 0.328\n",
            "Training loss: 1.6372524 | Val accuracy: 0.584 | Test accuracy: 0.60899997\n",
            "Training loss: 1.2666545 | Val accuracy: 0.644 | Test accuracy: 0.678\n",
            "Training loss: 1.1482413 | Val accuracy: 0.662 | Test accuracy: 0.685\n",
            "Training loss: 0.93269634 | Val accuracy: 0.67199993 | Test accuracy: 0.687\n",
            "Training loss: 0.85000443 | Val accuracy: 0.714 | Test accuracy: 0.73599994\n",
            "Training loss: 0.7725894 | Val accuracy: 0.734 | Test accuracy: 0.74799997\n",
            "Training loss: 0.66383713 | Val accuracy: 0.736 | Test accuracy: 0.753\n",
            "Training loss: 0.59492326 | Val accuracy: 0.744 | Test accuracy: 0.75200003\n",
            "Training loss: 0.5399339 | Val accuracy: 0.75200003 | Test accuracy: 0.75399995\n",
            "Training loss: 0.40955243 | Val accuracy: 0.75399995 | Test accuracy: 0.752\n"
          ]
        }
      ]
    },
    {
      "cell_type": "code",
      "source": [
        "deg = tf.reduce_sum(adj, axis=-1)\n",
        "norm_deg = tf.linalg.diag(1.0 / tf.sqrt(deg))\n",
        "norm_adj = tf.matmul(norm_deg, tf.matmul(adj, norm_deg))\n",
        "train_cora(features, norm_adj, gnn, 32, 200, 0.01)"
      ],
      "metadata": {
        "colab": {
          "base_uri": "https://localhost:8080/"
        },
        "id": "kzpm55FCJt06",
        "outputId": "cf88a789-4fc2-4f02-bd2b-8c6057d1b5c6"
      },
      "execution_count": null,
      "outputs": [
        {
          "output_type": "stream",
          "name": "stdout",
          "text": [
            "Training loss: 1.9459112 | Val accuracy: 0.152 | Test accuracy: 0.16899998\n",
            "Training loss: 1.936286 | Val accuracy: 0.16599998 | Test accuracy: 0.19899999\n",
            "Training loss: 1.9231865 | Val accuracy: 0.27199998 | Test accuracy: 0.297\n",
            "Training loss: 1.9061885 | Val accuracy: 0.376 | Test accuracy: 0.39999998\n",
            "Training loss: 1.8879423 | Val accuracy: 0.42199996 | Test accuracy: 0.43199998\n",
            "Training loss: 1.8478628 | Val accuracy: 0.43199998 | Test accuracy: 0.42699996\n",
            "Training loss: 1.8254884 | Val accuracy: 0.45599997 | Test accuracy: 0.44899994\n",
            "Training loss: 1.8015292 | Val accuracy: 0.494 | Test accuracy: 0.47599998\n",
            "Training loss: 1.7757418 | Val accuracy: 0.52599996 | Test accuracy: 0.50799996\n",
            "Training loss: 1.7479149 | Val accuracy: 0.562 | Test accuracy: 0.55799997\n",
            "Training loss: 1.7178336 | Val accuracy: 0.60400003 | Test accuracy: 0.59999996\n",
            "Training loss: 1.6860932 | Val accuracy: 0.634 | Test accuracy: 0.63100004\n",
            "Training loss: 1.6531155 | Val accuracy: 0.654 | Test accuracy: 0.648\n",
            "Training loss: 1.6186274 | Val accuracy: 0.67 | Test accuracy: 0.6609999\n",
            "Training loss: 1.5823292 | Val accuracy: 0.684 | Test accuracy: 0.67599994\n",
            "Training loss: 1.544398 | Val accuracy: 0.686 | Test accuracy: 0.688\n",
            "Training loss: 1.5051578 | Val accuracy: 0.696 | Test accuracy: 0.6959999\n",
            "Training loss: 1.464534 | Val accuracy: 0.7 | Test accuracy: 0.70399994\n",
            "Training loss: 1.422551 | Val accuracy: 0.702 | Test accuracy: 0.71199995\n",
            "Training loss: 1.3349012 | Val accuracy: 0.70799994 | Test accuracy: 0.72\n",
            "Training loss: 1.2895519 | Val accuracy: 0.714 | Test accuracy: 0.72800004\n",
            "Training loss: 1.2433779 | Val accuracy: 0.71999997 | Test accuracy: 0.731\n",
            "Training loss: 1.1965048 | Val accuracy: 0.728 | Test accuracy: 0.738\n",
            "Training loss: 1.1491312 | Val accuracy: 0.734 | Test accuracy: 0.745\n",
            "Training loss: 1.1013741 | Val accuracy: 0.73800004 | Test accuracy: 0.751\n",
            "Training loss: 1.0535635 | Val accuracy: 0.74 | Test accuracy: 0.75399995\n",
            "Training loss: 1.0061346 | Val accuracy: 0.746 | Test accuracy: 0.7569999\n",
            "Training loss: 0.9591571 | Val accuracy: 0.75 | Test accuracy: 0.76000005\n",
            "Training loss: 0.82214373 | Val accuracy: 0.75799996 | Test accuracy: 0.76800007\n",
            "Training loss: 0.7783415 | Val accuracy: 0.76199996 | Test accuracy: 0.77300006\n",
            "Training loss: 0.73577315 | Val accuracy: 0.76399994 | Test accuracy: 0.7750001\n",
            "Training loss: 0.69459206 | Val accuracy: 0.76400006 | Test accuracy: 0.7800001\n",
            "Training loss: 0.6549098 | Val accuracy: 0.766 | Test accuracy: 0.784\n",
            "Training loss: 0.54557186 | Val accuracy: 0.76799995 | Test accuracy: 0.78999996\n",
            "Training loss: 0.512516 | Val accuracy: 0.77 | Test accuracy: 0.78999996\n",
            "Training loss: 0.48118287 | Val accuracy: 0.774 | Test accuracy: 0.79300004\n",
            "Training loss: 0.39729974 | Val accuracy: 0.77599996 | Test accuracy: 0.798\n",
            "Training loss: 0.3493772 | Val accuracy: 0.782 | Test accuracy: 0.80099994\n"
          ]
        }
      ]
    },
    {
      "cell_type": "code",
      "source": [],
      "metadata": {
        "id": "d8YPRlAILagS"
      },
      "execution_count": null,
      "outputs": []
    }
  ]
}